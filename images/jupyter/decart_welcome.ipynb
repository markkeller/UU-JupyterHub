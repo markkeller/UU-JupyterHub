{
 "cells": [
  {
   "cell_type": "markdown",
   "metadata": {},
   "source": [
    "<html>\n",
    "<table width=\"100%\" cellspacing=\"2\" cellpadding=\"2\" border=\"1\">\n",
    "<tbody>\n",
    "<tr>\n",
    "<td valign=\"center\" align=\"center\" width=\"25%\"><img src=\"media/decartes.jpg\"\n",
    "alt=\"DeCART Icon\" width=\"128\" height=\"171\"><br>\n",
    "</td>\n",
    "<td valign=\"center\" align=\"center\" width=\"75%\">\n",
    "<h1 align=\"center\"><font size=\"+3\">DeCART Summer School<br>\n",
    "for<br>\n",
    "Biomedical Data Science</font></h1></td>\n",
    "<td valign=\"center\" align=\"center\" width=\"25%\"><img\n",
    "src=\"media/U_Health_stacked_png_red.png\" alt=\"Utah Health\n",
    "Logo\" width=\"128\" height=\"134\"><br>\n",
    "</td>\n",
    "</tr>\n",
    "</tbody>\n",
    "</table>\n",
    "<br>\n",
    "</html>"
   ]
  },
  {
   "cell_type": "markdown",
   "metadata": {},
   "source": [
    "# Welcome to the 2017 DeCART Summer School\n",
    "\n",
    "We are excited to have you join us in Salt Lake City for our biomedical data science summer school. We have an exciting selection of classes as well as speakers to introduce you to current topics in healthcare, biology, and data science.\n",
    "\n",
    "Brian E. Chapman, Ph.D.  \n",
    "Matthew H. Samore, M.D.  \n",
    "\n",
    "Directors, DeCART Summer School"
   ]
  },
  {
   "cell_type": "markdown",
   "metadata": {},
   "source": [
    "### To get started with Boot Camp Part 1: Computing Environments evaluate the cell below"
   ]
  },
  {
   "cell_type": "code",
   "execution_count": 1,
   "metadata": {},
   "outputs": [
    {
     "name": "stderr",
     "output_type": "stream",
     "text": [
      "fatal: destination path 'decart_bootcamp_part1' already exists and is not an empty directory.\n"
     ]
    }
   ],
   "source": [
    "%%bash\n",
    "cd /home/jovyan/work\n",
    "git clone https://github.com/UUDeCART/decart_bootcamp_part1.git"
   ]
  },
  {
   "cell_type": "markdown",
   "metadata": {},
   "source": [
    "### To get started with Boot Camp 2: Introduction to Python for Biomedical Data Science, evaluate the cell below"
   ]
  },
  {
   "cell_type": "code",
   "execution_count": 2,
   "metadata": {},
   "outputs": [
    {
     "name": "stderr",
     "output_type": "stream",
     "text": [
      "Cloning into 'decart_bootcamp_part2'...\n",
      "warning: You appear to have cloned an empty repository.\n"
     ]
    }
   ],
   "source": [
    "%%bash\n",
    "cd /home/jovyan/work\n",
    "git clone https://github.com/UUDeCART/decart_bootcamp_part2.git"
   ]
  },
  {
   "cell_type": "markdown",
   "metadata": {},
   "source": [
    "### To get started with The python at the end of the galaxy, evaluate the cell below"
   ]
  },
  {
   "cell_type": "code",
   "execution_count": 3,
   "metadata": {},
   "outputs": [
    {
     "name": "stderr",
     "output_type": "stream",
     "text": [
      "Cloning into 'bioinformatics_galaxy'...\n"
     ]
    }
   ],
   "source": [
    "%%bash\n",
    "cd /home/jovyan/work\n",
    "git clone https://github.com/UUDeCART/bioinformatics_galaxy.git"
   ]
  },
  {
   "cell_type": "markdown",
   "metadata": {},
   "source": [
    "### To get started with Relational Databases and Enterprise Data Warehouse, evaluate the cell below"
   ]
  },
  {
   "cell_type": "code",
   "execution_count": 4,
   "metadata": {},
   "outputs": [
    {
     "name": "stderr",
     "output_type": "stream",
     "text": [
      "Cloning into 'decart_sql_edw'...\n"
     ]
    }
   ],
   "source": [
    "%%bash\n",
    "cd /home/jovyan/work\n",
    "git clone https://github.com/UUDeCART/decart_sql_edw.git"
   ]
  },
  {
   "cell_type": "markdown",
   "metadata": {},
   "source": [
    "### To get started with Resonant: flexible data management platform for the web using a schemaless persistence layer, evaluate the cell below"
   ]
  },
  {
   "cell_type": "code",
   "execution_count": 5,
   "metadata": {},
   "outputs": [
    {
     "name": "stderr",
     "output_type": "stream",
     "text": [
      "fatal: destination path 'decart_nosql_resonant' already exists and is not an empty directory.\n"
     ]
    }
   ],
   "source": [
    "%%bash\n",
    "cd /home/jovyan/work\n",
    "git clone https://github.com/UUDeCART/decart_nosql_resonant.git"
   ]
  },
  {
   "cell_type": "markdown",
   "metadata": {},
   "source": [
    "### To get started with Data Visualization, evaluate the cell below"
   ]
  },
  {
   "cell_type": "code",
   "execution_count": 11,
   "metadata": {},
   "outputs": [
    {
     "name": "stderr",
     "output_type": "stream",
     "text": [
      "Cloning into 'data_visualization'...\n"
     ]
    }
   ],
   "source": [
    "%%bash\n",
    "cd /home/jovyan/work\n",
    "git clone https://github.com/UUDeCART/data_visualization.git"
   ]
  },
  {
   "cell_type": "markdown",
   "metadata": {},
   "source": [
    "### To get started with Developing a rule-based Natural Language Processing application, evaluate the cell below"
   ]
  },
  {
   "cell_type": "code",
   "execution_count": 6,
   "metadata": {},
   "outputs": [
    {
     "name": "stderr",
     "output_type": "stream",
     "text": [
      "Cloning into 'decart_rule_based_nlp'...\n"
     ]
    }
   ],
   "source": [
    "%%bash\n",
    "cd /home/jovyan/work\n",
    "git clone https://github.com/UUDeCART/decart_rule_based_nlp.git"
   ]
  },
  {
   "cell_type": "markdown",
   "metadata": {},
   "source": [
    "### To get started with Principles and Practices for Reproducible Science, evaluate the cell below"
   ]
  },
  {
   "cell_type": "code",
   "execution_count": 7,
   "metadata": {},
   "outputs": [
    {
     "name": "stderr",
     "output_type": "stream",
     "text": [
      "Cloning into 'reproducible_science'...\n"
     ]
    }
   ],
   "source": [
    "%%bash\n",
    "cd /home/jovyan/work\n",
    "git clone https://github.com/UUDeCART/reproducible_science.git"
   ]
  },
  {
   "cell_type": "markdown",
   "metadata": {},
   "source": [
    "### To get started with Data Modeling using FHIR, evaluate the cell below"
   ]
  },
  {
   "cell_type": "code",
   "execution_count": 8,
   "metadata": {},
   "outputs": [
    {
     "name": "stderr",
     "output_type": "stream",
     "text": [
      "Cloning into 'decart_data_modeling_fhir'...\n",
      "warning: You appear to have cloned an empty repository.\n"
     ]
    }
   ],
   "source": [
    "%%bash\n",
    "cd /home/jovyan/work\n",
    "git clone https://github.com/UUDeCART/decart_data_modeling_fhir.git"
   ]
  },
  {
   "cell_type": "markdown",
   "metadata": {},
   "source": [
    "### To get started with Applied Statistical Natural Language Processing Methods, evaluate the cell below"
   ]
  },
  {
   "cell_type": "code",
   "execution_count": 9,
   "metadata": {},
   "outputs": [
    {
     "name": "stderr",
     "output_type": "stream",
     "text": [
      "Cloning into 'statistical_nlp'...\n"
     ]
    }
   ],
   "source": [
    "%%bash\n",
    "cd /home/jovyan/work\n",
    "git clone https://github.com/UUDeCART/statistical_nlp.git"
   ]
  },
  {
   "cell_type": "markdown",
   "metadata": {},
   "source": [
    "### To get started with Predictive Analytics,  evaluate the cell below"
   ]
  },
  {
   "cell_type": "code",
   "execution_count": 10,
   "metadata": {},
   "outputs": [
    {
     "name": "stderr",
     "output_type": "stream",
     "text": [
      "Cloning into 'predictive_analytics'...\n"
     ]
    }
   ],
   "source": [
    "%%bash\n",
    "cd /home/jovyan/work\n",
    "git clone https://github.com/UUDeCART/predictive_analytics.git"
   ]
  },
  {
   "cell_type": "markdown",
   "metadata": {},
   "source": [
    "### [DeCART Homepage](https://datascience4health.bmi.utah.edu/)\n",
    "\n",
    "### [Things to Do in Salt Lake City](https://datascience4health.bmi.utah.edu/thingstodoinslc/)\n",
    "\n",
    "### [DeCART Featured Speakers](https://datascience4health.bmi.utah.edu/decart-featured-speakers/)"
   ]
  },
  {
   "cell_type": "markdown",
   "metadata": {},
   "source": [
    "<a rel=\"license\" href=\"http://creativecommons.org/licenses/by-nc-sa/4.0/\"><img alt=\"Creative Commons License\" style=\"border-width:0\" src=\"https://i.creativecommons.org/l/by-nc-sa/4.0/88x31.png\" /></a><br /><span xmlns:dct=\"http://purl.org/dc/terms/\" property=\"dct:title\">University of Utah DeCART Summer School for Biomedical Data Science.</span>\n",
    "\n",
    "<span xmlns:cc=\"http://creativecommons.org/ns#\" property=\"cc:attributionName\">&copy; Brian E. Chapman and Matthew H. Samore</span>. This material is licensed under a <a rel=\"license\" href=\"http://creativecommons.org/licenses/by-nc-sa/4.0/\">Creative Commons Attribution-NonCommercial-ShareAlike 4.0 International License</a>."
   ]
  },
  {
   "cell_type": "code",
   "execution_count": null,
   "metadata": {
    "collapsed": true
   },
   "outputs": [],
   "source": []
  }
 ],
 "metadata": {
  "kernelspec": {
   "display_name": "Python 3",
   "language": "python",
   "name": "python3"
  },
  "language_info": {
   "codemirror_mode": {
    "name": "ipython",
    "version": 3
   },
   "file_extension": ".py",
   "mimetype": "text/x-python",
   "name": "python",
   "nbconvert_exporter": "python",
   "pygments_lexer": "ipython3",
   "version": "3.5.2"
  }
 },
 "nbformat": 4,
 "nbformat_minor": 2
}
